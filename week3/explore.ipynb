{
 "cells": [
  {
   "cell_type": "code",
   "execution_count": 2,
   "metadata": {},
   "outputs": [],
   "source": [
    "from pathlib import Path\n",
    "import pandas as pd\n",
    "from prefect import flow, task\n",
    "from prefect_gcp.cloud_storage import GcsBucket\n",
    "import argparse\n",
    "from prefect.tasks import task_input_hash\n",
    "from datetime import timedelta\n",
    "import os\n",
    "import glob"
   ]
  },
  {
   "cell_type": "code",
   "execution_count": 61,
   "metadata": {},
   "outputs": [],
   "source": [
    "path = 'C:\\\\Users\\\\Guilherme\\\\Documents\\\\WORKSPACE\\\\data-engineering-zoomcamp\\\\week3\\\\data' # use your path\n",
    "all_files = glob.glob(os.path.join(path , \"\\\\*.csv.gz\"))"
   ]
  },
  {
   "cell_type": "code",
   "execution_count": 3,
   "metadata": {},
   "outputs": [],
   "source": [
    "df = pd.concat(map(pd.read_csv, ['fhv_tripdata_2019-02.csv.gz', 'fhv_tripdata_2019-01.csv.gz','fhv_tripdata_2019-02.csv.gz','fhv_tripdata_2019-03.csv.gz','fhv_tripdata_2019-04.csv.gz','fhv_tripdata_2019-06.csv.gz','fhv_tripdata_2019-07.csv.gz','fhv_tripdata_2019-08.csv.gz','fhv_tripdata_2019-09.csv.gz','fhv_tripdata_2019-10.csv.gz','fhv_tripdata_2019-11.csv.gz','fhv_tripdata_2019-12.csv.gz']))"
   ]
  },
  {
   "cell_type": "code",
   "execution_count": 6,
   "metadata": {},
   "outputs": [],
   "source": [
    "dataset_file = f\"fhv_tripdata_2019-02\"\n",
    "url = f\"https://github.com/DataTalksClub/nyc-tlc-data/releases/download/fhv/{dataset_file}.csv.gz\""
   ]
  },
  {
   "cell_type": "code",
   "execution_count": 7,
   "metadata": {},
   "outputs": [],
   "source": [
    "df = pd.read_csv(url)"
   ]
  },
  {
   "cell_type": "code",
   "execution_count": 42,
   "metadata": {},
   "outputs": [
    {
     "name": "stdout",
     "output_type": "stream",
     "text": [
      "<class 'pandas.core.frame.DataFrame'>\n",
      "RangeIndex: 1707649 entries, 0 to 1707648\n",
      "Data columns (total 7 columns):\n",
      " #   Column                  Dtype  \n",
      "---  ------                  -----  \n",
      " 0   dispatching_base_num    object \n",
      " 1   pickup_datetime         object \n",
      " 2   dropOff_datetime        object \n",
      " 3   PUlocationID            float64\n",
      " 4   DOlocationID            float64\n",
      " 5   SR_Flag                 float64\n",
      " 6   Affiliated_base_number  object \n",
      "dtypes: float64(3), object(4)\n",
      "memory usage: 91.2+ MB\n"
     ]
    }
   ],
   "source": [
    "df.info()"
   ]
  },
  {
   "cell_type": "code",
   "execution_count": 15,
   "metadata": {},
   "outputs": [
    {
     "data": {
      "text/html": [
       "<div>\n",
       "<style scoped>\n",
       "    .dataframe tbody tr th:only-of-type {\n",
       "        vertical-align: middle;\n",
       "    }\n",
       "\n",
       "    .dataframe tbody tr th {\n",
       "        vertical-align: top;\n",
       "    }\n",
       "\n",
       "    .dataframe thead th {\n",
       "        text-align: right;\n",
       "    }\n",
       "</style>\n",
       "<table border=\"1\" class=\"dataframe\">\n",
       "  <thead>\n",
       "    <tr style=\"text-align: right;\">\n",
       "      <th></th>\n",
       "      <th>dispatching_base_num</th>\n",
       "      <th>pickup_datetime</th>\n",
       "      <th>dropOff_datetime</th>\n",
       "      <th>PUlocationID</th>\n",
       "      <th>DOlocationID</th>\n",
       "      <th>SR_Flag</th>\n",
       "      <th>Affiliated_base_number</th>\n",
       "    </tr>\n",
       "  </thead>\n",
       "  <tbody>\n",
       "    <tr>\n",
       "      <th>0</th>\n",
       "      <td>B00037</td>\n",
       "      <td>2019-02-01 00:08:44</td>\n",
       "      <td>2019-02-01 00:23:35</td>\n",
       "      <td>264.0</td>\n",
       "      <td>265.0</td>\n",
       "      <td>NaN</td>\n",
       "      <td>B00037</td>\n",
       "    </tr>\n",
       "    <tr>\n",
       "      <th>1</th>\n",
       "      <td>B00037</td>\n",
       "      <td>2019-02-01 00:27:51</td>\n",
       "      <td>2019-02-01 00:32:54</td>\n",
       "      <td>264.0</td>\n",
       "      <td>265.0</td>\n",
       "      <td>NaN</td>\n",
       "      <td>B00037</td>\n",
       "    </tr>\n",
       "    <tr>\n",
       "      <th>2</th>\n",
       "      <td>B00037</td>\n",
       "      <td>2019-02-01 00:18:30</td>\n",
       "      <td>2019-02-01 00:25:45</td>\n",
       "      <td>264.0</td>\n",
       "      <td>265.0</td>\n",
       "      <td>NaN</td>\n",
       "      <td>B00037</td>\n",
       "    </tr>\n",
       "    <tr>\n",
       "      <th>3</th>\n",
       "      <td>B00037</td>\n",
       "      <td>2019-02-01 00:43:15</td>\n",
       "      <td>2019-02-01 00:48:29</td>\n",
       "      <td>264.0</td>\n",
       "      <td>265.0</td>\n",
       "      <td>NaN</td>\n",
       "      <td>B00037</td>\n",
       "    </tr>\n",
       "    <tr>\n",
       "      <th>4</th>\n",
       "      <td>B00037</td>\n",
       "      <td>2019-02-01 00:01:45</td>\n",
       "      <td>2019-02-01 00:09:13</td>\n",
       "      <td>264.0</td>\n",
       "      <td>265.0</td>\n",
       "      <td>NaN</td>\n",
       "      <td>B00037</td>\n",
       "    </tr>\n",
       "    <tr>\n",
       "      <th>5</th>\n",
       "      <td>B00037</td>\n",
       "      <td>2019-02-01 00:03:51</td>\n",
       "      <td>2019-02-01 00:16:36</td>\n",
       "      <td>264.0</td>\n",
       "      <td>265.0</td>\n",
       "      <td>NaN</td>\n",
       "      <td>B00037</td>\n",
       "    </tr>\n",
       "    <tr>\n",
       "      <th>6</th>\n",
       "      <td>B00037</td>\n",
       "      <td>2019-02-01 00:07:04</td>\n",
       "      <td>2019-02-01 00:13:47</td>\n",
       "      <td>264.0</td>\n",
       "      <td>265.0</td>\n",
       "      <td>NaN</td>\n",
       "      <td>B00037</td>\n",
       "    </tr>\n",
       "    <tr>\n",
       "      <th>7</th>\n",
       "      <td>B00037</td>\n",
       "      <td>2019-02-01 00:02:09</td>\n",
       "      <td>2019-02-01 00:07:32</td>\n",
       "      <td>264.0</td>\n",
       "      <td>265.0</td>\n",
       "      <td>NaN</td>\n",
       "      <td>B00037</td>\n",
       "    </tr>\n",
       "    <tr>\n",
       "      <th>8</th>\n",
       "      <td>B00095</td>\n",
       "      <td>2019-02-01 00:18:58</td>\n",
       "      <td>2019-02-01 00:25:52</td>\n",
       "      <td>264.0</td>\n",
       "      <td>265.0</td>\n",
       "      <td>NaN</td>\n",
       "      <td>B00095</td>\n",
       "    </tr>\n",
       "    <tr>\n",
       "      <th>9</th>\n",
       "      <td>B00095</td>\n",
       "      <td>2019-02-01 00:59:51</td>\n",
       "      <td>2019-02-01 01:06:07</td>\n",
       "      <td>264.0</td>\n",
       "      <td>265.0</td>\n",
       "      <td>NaN</td>\n",
       "      <td>B00095</td>\n",
       "    </tr>\n",
       "  </tbody>\n",
       "</table>\n",
       "</div>"
      ],
      "text/plain": [
       "  dispatching_base_num      pickup_datetime     dropOff_datetime  \\\n",
       "0               B00037  2019-02-01 00:08:44  2019-02-01 00:23:35   \n",
       "1               B00037  2019-02-01 00:27:51  2019-02-01 00:32:54   \n",
       "2               B00037  2019-02-01 00:18:30  2019-02-01 00:25:45   \n",
       "3               B00037  2019-02-01 00:43:15  2019-02-01 00:48:29   \n",
       "4               B00037  2019-02-01 00:01:45  2019-02-01 00:09:13   \n",
       "5               B00037  2019-02-01 00:03:51  2019-02-01 00:16:36   \n",
       "6               B00037  2019-02-01 00:07:04  2019-02-01 00:13:47   \n",
       "7               B00037  2019-02-01 00:02:09  2019-02-01 00:07:32   \n",
       "8               B00095  2019-02-01 00:18:58  2019-02-01 00:25:52   \n",
       "9               B00095  2019-02-01 00:59:51  2019-02-01 01:06:07   \n",
       "\n",
       "   PUlocationID  DOlocationID  SR_Flag Affiliated_base_number  \n",
       "0         264.0         265.0      NaN                 B00037  \n",
       "1         264.0         265.0      NaN                 B00037  \n",
       "2         264.0         265.0      NaN                 B00037  \n",
       "3         264.0         265.0      NaN                 B00037  \n",
       "4         264.0         265.0      NaN                 B00037  \n",
       "5         264.0         265.0      NaN                 B00037  \n",
       "6         264.0         265.0      NaN                 B00037  \n",
       "7         264.0         265.0      NaN                 B00037  \n",
       "8         264.0         265.0      NaN                 B00095  \n",
       "9         264.0         265.0      NaN                 B00095  "
      ]
     },
     "execution_count": 15,
     "metadata": {},
     "output_type": "execute_result"
    }
   ],
   "source": [
    "df.head(10)"
   ]
  },
  {
   "cell_type": "code",
   "execution_count": 25,
   "metadata": {},
   "outputs": [
    {
     "data": {
      "text/plain": [
       "(1707649, 7)"
      ]
     },
     "execution_count": 25,
     "metadata": {},
     "output_type": "execute_result"
    }
   ],
   "source": [
    "df.shape"
   ]
  },
  {
   "cell_type": "code",
   "execution_count": 45,
   "metadata": {},
   "outputs": [],
   "source": [
    "df['PUlocationID'] = df['PUlocationID'].astype('Int64')"
   ]
  },
  {
   "cell_type": "code",
   "execution_count": 6,
   "metadata": {},
   "outputs": [
    {
     "data": {
      "text/plain": [
       "723690"
      ]
     },
     "execution_count": 6,
     "metadata": {},
     "output_type": "execute_result"
    }
   ],
   "source": [
    "df['DOlocationID'].isnull().sum()"
   ]
  },
  {
   "cell_type": "code",
   "execution_count": 7,
   "metadata": {},
   "outputs": [
    {
     "data": {
      "text/plain": [
       "717749"
      ]
     },
     "execution_count": 7,
     "metadata": {},
     "output_type": "execute_result"
    }
   ],
   "source": [
    "mask = df['PUlocationID'].isnull() & df['DOlocationID'].isnull()\n",
    "result = mask.sum()\n",
    "result"
   ]
  },
  {
   "cell_type": "code",
   "execution_count": 40,
   "metadata": {},
   "outputs": [
    {
     "data": {
      "text/html": [
       "<div>\n",
       "<style scoped>\n",
       "    .dataframe tbody tr th:only-of-type {\n",
       "        vertical-align: middle;\n",
       "    }\n",
       "\n",
       "    .dataframe tbody tr th {\n",
       "        vertical-align: top;\n",
       "    }\n",
       "\n",
       "    .dataframe thead th {\n",
       "        text-align: right;\n",
       "    }\n",
       "</style>\n",
       "<table border=\"1\" class=\"dataframe\">\n",
       "  <thead>\n",
       "    <tr style=\"text-align: right;\">\n",
       "      <th></th>\n",
       "      <th>dispatching_base_num</th>\n",
       "      <th>pickup_datetime</th>\n",
       "      <th>dropOff_datetime</th>\n",
       "      <th>PUlocationID</th>\n",
       "      <th>DOlocationID</th>\n",
       "      <th>SR_Flag</th>\n",
       "      <th>Affiliated_base_number</th>\n",
       "    </tr>\n",
       "  </thead>\n",
       "  <tbody>\n",
       "    <tr>\n",
       "      <th>18769</th>\n",
       "      <td>B03022</td>\n",
       "      <td>2019-02-01 08:32:09</td>\n",
       "      <td>2019-02-01 09:35:09</td>\n",
       "      <td>264.0</td>\n",
       "      <td>265.0</td>\n",
       "      <td>1.0</td>\n",
       "      <td>B03022</td>\n",
       "    </tr>\n",
       "    <tr>\n",
       "      <th>18770</th>\n",
       "      <td>B03022</td>\n",
       "      <td>2019-02-01 08:57:13</td>\n",
       "      <td>2019-02-01 09:14:36</td>\n",
       "      <td>264.0</td>\n",
       "      <td>265.0</td>\n",
       "      <td>2.0</td>\n",
       "      <td>B03022</td>\n",
       "    </tr>\n",
       "    <tr>\n",
       "      <th>23864</th>\n",
       "      <td>B03022</td>\n",
       "      <td>2019-02-01 09:17:34</td>\n",
       "      <td>2019-02-01 09:23:38</td>\n",
       "      <td>264.0</td>\n",
       "      <td>265.0</td>\n",
       "      <td>1.0</td>\n",
       "      <td>B03022</td>\n",
       "    </tr>\n",
       "    <tr>\n",
       "      <th>23865</th>\n",
       "      <td>B03022</td>\n",
       "      <td>2019-02-01 09:18:15</td>\n",
       "      <td>2019-02-01 09:39:25</td>\n",
       "      <td>264.0</td>\n",
       "      <td>265.0</td>\n",
       "      <td>2.0</td>\n",
       "      <td>B03022</td>\n",
       "    </tr>\n",
       "    <tr>\n",
       "      <th>23866</th>\n",
       "      <td>B03022</td>\n",
       "      <td>2019-02-01 09:00:12</td>\n",
       "      <td>2019-02-01 09:29:43</td>\n",
       "      <td>264.0</td>\n",
       "      <td>265.0</td>\n",
       "      <td>1.0</td>\n",
       "      <td>B03022</td>\n",
       "    </tr>\n",
       "    <tr>\n",
       "      <th>23867</th>\n",
       "      <td>B03022</td>\n",
       "      <td>2019-02-01 09:28:27</td>\n",
       "      <td>2019-02-01 09:29:43</td>\n",
       "      <td>264.0</td>\n",
       "      <td>265.0</td>\n",
       "      <td>2.0</td>\n",
       "      <td>B03022</td>\n",
       "    </tr>\n",
       "  </tbody>\n",
       "</table>\n",
       "</div>"
      ],
      "text/plain": [
       "      dispatching_base_num      pickup_datetime     dropOff_datetime  \\\n",
       "18769               B03022  2019-02-01 08:32:09  2019-02-01 09:35:09   \n",
       "18770               B03022  2019-02-01 08:57:13  2019-02-01 09:14:36   \n",
       "23864               B03022  2019-02-01 09:17:34  2019-02-01 09:23:38   \n",
       "23865               B03022  2019-02-01 09:18:15  2019-02-01 09:39:25   \n",
       "23866               B03022  2019-02-01 09:00:12  2019-02-01 09:29:43   \n",
       "23867               B03022  2019-02-01 09:28:27  2019-02-01 09:29:43   \n",
       "\n",
       "       PUlocationID  DOlocationID  SR_Flag Affiliated_base_number  \n",
       "18769         264.0         265.0      1.0                 B03022  \n",
       "18770         264.0         265.0      2.0                 B03022  \n",
       "23864         264.0         265.0      1.0                 B03022  \n",
       "23865         264.0         265.0      2.0                 B03022  \n",
       "23866         264.0         265.0      1.0                 B03022  \n",
       "23867         264.0         265.0      2.0                 B03022  "
      ]
     },
     "execution_count": 40,
     "metadata": {},
     "output_type": "execute_result"
    }
   ],
   "source": [
    "df[df['SR_Flag'].notna()]"
   ]
  },
  {
   "cell_type": "code",
   "execution_count": 37,
   "metadata": {},
   "outputs": [
    {
     "data": {
      "text/html": [
       "<div>\n",
       "<style scoped>\n",
       "    .dataframe tbody tr th:only-of-type {\n",
       "        vertical-align: middle;\n",
       "    }\n",
       "\n",
       "    .dataframe tbody tr th {\n",
       "        vertical-align: top;\n",
       "    }\n",
       "\n",
       "    .dataframe thead th {\n",
       "        text-align: right;\n",
       "    }\n",
       "</style>\n",
       "<table border=\"1\" class=\"dataframe\">\n",
       "  <thead>\n",
       "    <tr style=\"text-align: right;\">\n",
       "      <th></th>\n",
       "      <th>dispatching_base_num</th>\n",
       "      <th>pickup_datetime</th>\n",
       "      <th>dropOff_datetime</th>\n",
       "      <th>PUlocationID</th>\n",
       "      <th>DOlocationID</th>\n",
       "      <th>SR_Flag</th>\n",
       "      <th>Affiliated_base_number</th>\n",
       "    </tr>\n",
       "  </thead>\n",
       "  <tbody>\n",
       "    <tr>\n",
       "      <th>32565</th>\n",
       "      <td>B03059</td>\n",
       "      <td>2019-02-01 11:22:00</td>\n",
       "      <td>2020-02-01 11:40:00</td>\n",
       "      <td>NaN</td>\n",
       "      <td>NaN</td>\n",
       "      <td>NaN</td>\n",
       "      <td>B03059</td>\n",
       "    </tr>\n",
       "  </tbody>\n",
       "</table>\n",
       "</div>"
      ],
      "text/plain": [
       "      dispatching_base_num      pickup_datetime     dropOff_datetime  \\\n",
       "32565               B03059  2019-02-01 11:22:00  2020-02-01 11:40:00   \n",
       "\n",
       "       PUlocationID  DOlocationID  SR_Flag Affiliated_base_number  \n",
       "32565           NaN           NaN      NaN                 B03059  "
      ]
     },
     "execution_count": 37,
     "metadata": {},
     "output_type": "execute_result"
    }
   ],
   "source": [
    "df[df['PUlocationID'].isna()]"
   ]
  }
 ],
 "metadata": {
  "kernelspec": {
   "display_name": "Python 3",
   "language": "python",
   "name": "python3"
  },
  "language_info": {
   "codemirror_mode": {
    "name": "ipython",
    "version": 3
   },
   "file_extension": ".py",
   "mimetype": "text/x-python",
   "name": "python",
   "nbconvert_exporter": "python",
   "pygments_lexer": "ipython3",
   "version": "3.11.1"
  },
  "orig_nbformat": 4,
  "vscode": {
   "interpreter": {
    "hash": "81afcc7207373ec109ee112b57f6cf4dae598048329d0e3a26f6852d1153459b"
   }
  }
 },
 "nbformat": 4,
 "nbformat_minor": 2
}
