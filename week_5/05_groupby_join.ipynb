{
 "cells": [
  {
   "cell_type": "code",
   "execution_count": 19,
   "metadata": {},
   "outputs": [],
   "source": [
    "from pyspark.sql.functions import col"
   ]
  },
  {
   "cell_type": "code",
   "execution_count": 1,
   "metadata": {},
   "outputs": [
    {
     "name": "stderr",
     "output_type": "stream",
     "text": [
      "Setting default log level to \"WARN\".\n",
      "To adjust logging level use sc.setLogLevel(newLevel). For SparkR, use setLogLevel(newLevel).\n"
     ]
    },
    {
     "name": "stdout",
     "output_type": "stream",
     "text": [
      "23/03/27 14:29:25 WARN NativeCodeLoader: Unable to load native-hadoop library for your platform... using builtin-java classes where applicable\n"
     ]
    }
   ],
   "source": [
    "import pyspark\n",
    "from pyspark.sql import SparkSession\n",
    "\n",
    "\n",
    "spark = SparkSession.builder \\\n",
    "        .master(\"local[*]\") \\\n",
    "        .appName('teste') \\\n",
    "        .getOrCreate()"
   ]
  },
  {
   "cell_type": "code",
   "execution_count": 2,
   "metadata": {},
   "outputs": [
    {
     "name": "stderr",
     "output_type": "stream",
     "text": [
      "                                                                                \r"
     ]
    }
   ],
   "source": [
    "df_green = spark.read.parquet('data/raw/green/*/*')\n",
    "df_yellow = spark.read.parquet('data/raw/yellow/*/*')"
   ]
  },
  {
   "cell_type": "code",
   "execution_count": 3,
   "metadata": {},
   "outputs": [],
   "source": [
    "df_green.createOrReplaceTempView('green')\n",
    "df_yellow.createOrReplaceTempView('yellow')"
   ]
  },
  {
   "cell_type": "code",
   "execution_count": 4,
   "metadata": {},
   "outputs": [],
   "source": [
    "df_green_revenue = spark.sql(\"\"\"\n",
    "SELECT \n",
    "    -- Reveneue grouping \n",
    "    PULocationID AS zone,\n",
    "    date_trunc('hour', lpep_pickup_datetime) AS hour, \n",
    "    \n",
    "    SUM(total_amount) AS amount,\n",
    "    COUNT(1) AS number_records\n",
    "FROM\n",
    "    green\n",
    "GROUP BY\n",
    "    1, 2\n",
    "\"\"\")"
   ]
  },
  {
   "cell_type": "code",
   "execution_count": 5,
   "metadata": {},
   "outputs": [],
   "source": [
    "df_yellow_revenue = spark.sql(\"\"\"\n",
    "SELECT \n",
    "    -- Reveneue grouping \n",
    "    PULocationID AS zone,\n",
    "    date_trunc('hour', tpep_pickup_datetime) AS hour, \n",
    "    \n",
    "    SUM(total_amount) AS amount,\n",
    "    COUNT(1) AS number_records\n",
    "FROM\n",
    "    yellow\n",
    "GROUP BY\n",
    "    1, 2\n",
    "ORDER BY\n",
    "    1, 2\n",
    "\"\"\")"
   ]
  },
  {
   "cell_type": "code",
   "execution_count": 6,
   "metadata": {},
   "outputs": [
    {
     "name": "stderr",
     "output_type": "stream",
     "text": [
      "                                                                                \r"
     ]
    },
    {
     "name": "stdout",
     "output_type": "stream",
     "text": [
      "+----+-------------------+------------------+--------------+\n",
      "|zone|               hour|            amount|number_records|\n",
      "+----+-------------------+------------------+--------------+\n",
      "| 174|2019-12-31 21:00:00|              21.7|             1|\n",
      "|  41|2019-12-31 23:00:00|            556.11|            36|\n",
      "| 173|2020-01-01 02:00:00| 59.03999999999999|             3|\n",
      "|  75|2020-01-01 04:00:00|127.15999999999998|            10|\n",
      "|   7|2020-01-01 14:00:00| 357.8400000000001|            28|\n",
      "|  36|2020-01-01 13:00:00|             18.09|             2|\n",
      "|  41|2020-01-01 15:00:00| 487.9300000000001|            33|\n",
      "|  25|2020-01-01 16:00:00|            262.92|            12|\n",
      "| 179|2020-01-01 20:00:00|            139.97|             6|\n",
      "|  62|2020-01-02 07:00:00|             75.78|             6|\n",
      "| 181|2020-01-02 14:00:00|            179.72|            10|\n",
      "|  83|2020-01-02 15:00:00|             53.89|             3|\n",
      "|  92|2020-01-02 15:00:00|            160.36|             8|\n",
      "| 189|2020-01-02 17:00:00|61.010000000000005|             3|\n",
      "| 243|2020-01-02 19:00:00|26.560000000000002|             2|\n",
      "| 166|2020-01-02 22:00:00|             20.85|             2|\n",
      "| 181|2020-01-03 07:00:00|            250.37|            13|\n",
      "| 213|2020-01-03 13:00:00|              16.8|             1|\n",
      "|  36|2020-01-03 14:00:00|             99.68|             4|\n",
      "| 255|2020-01-03 17:00:00|119.36999999999999|             9|\n",
      "+----+-------------------+------------------+--------------+\n",
      "only showing top 20 rows\n",
      "\n"
     ]
    }
   ],
   "source": [
    "df_green_revenue.show()"
   ]
  },
  {
   "cell_type": "code",
   "execution_count": 7,
   "metadata": {},
   "outputs": [
    {
     "name": "stderr",
     "output_type": "stream",
     "text": [
      "[Stage 7:>                                                          (0 + 8) / 8]\r"
     ]
    },
    {
     "name": "stdout",
     "output_type": "stream",
     "text": [
      "+----+-------------------+------------------+--------------+\n",
      "|zone|               hour|            amount|number_records|\n",
      "+----+-------------------+------------------+--------------+\n",
      "|   1|2020-01-01 00:00:00|              95.3|             1|\n",
      "|   1|2020-01-01 01:00:00|              94.8|             1|\n",
      "|   1|2020-01-01 02:00:00|              40.3|             1|\n",
      "|   1|2020-01-01 03:00:00|445.28000000000003|             4|\n",
      "|   1|2020-01-01 04:00:00|              0.31|             1|\n",
      "|   1|2020-01-01 05:00:00|              60.8|             1|\n",
      "|   1|2020-01-01 06:00:00|            175.26|             2|\n",
      "|   1|2020-01-01 07:00:00|             100.6|             2|\n",
      "|   1|2020-01-01 08:00:00|              90.3|             1|\n",
      "|   1|2020-01-01 09:00:00|266.65999999999997|             3|\n",
      "|   1|2020-01-01 10:00:00|            213.36|             2|\n",
      "|   1|2020-01-01 11:00:00|             239.5|             3|\n",
      "|   1|2020-01-01 12:00:00|            315.21|             4|\n",
      "|   1|2020-01-01 13:00:00|            574.02|             6|\n",
      "|   1|2020-01-01 14:00:00|            333.56|             3|\n",
      "|   1|2020-01-01 15:00:00|            400.41|             3|\n",
      "|   1|2020-01-01 16:00:00|             96.35|             1|\n",
      "|   1|2020-01-01 17:00:00|             96.96|             3|\n",
      "|   1|2020-01-01 22:00:00|             84.36|             1|\n",
      "|   1|2020-01-02 00:00:00|             65.85|             1|\n",
      "+----+-------------------+------------------+--------------+\n",
      "only showing top 20 rows\n",
      "\n"
     ]
    },
    {
     "name": "stderr",
     "output_type": "stream",
     "text": [
      "                                                                                \r"
     ]
    }
   ],
   "source": [
    "df_yellow_revenue.show()"
   ]
  },
  {
   "cell_type": "code",
   "execution_count": 8,
   "metadata": {},
   "outputs": [
    {
     "name": "stderr",
     "output_type": "stream",
     "text": [
      "[Stage 10:>                                                         (0 + 8) / 8]\r"
     ]
    },
    {
     "name": "stdout",
     "output_type": "stream",
     "text": [
      "23/03/27 14:29:53 WARN MemoryManager: Total allocation exceeds 95,00% (1.020.054.720 bytes) of heap memory\n",
      "Scaling row group sizes to 95,00% for 8 writers\n"
     ]
    },
    {
     "name": "stderr",
     "output_type": "stream",
     "text": [
      "[Stage 13:======================>                                  (8 + 8) / 20]\r"
     ]
    },
    {
     "name": "stdout",
     "output_type": "stream",
     "text": [
      "23/03/27 14:29:54 WARN MemoryManager: Total allocation exceeds 95,00% (1.020.054.720 bytes) of heap memory\n",
      "Scaling row group sizes to 95,00% for 8 writers\n"
     ]
    },
    {
     "name": "stderr",
     "output_type": "stream",
     "text": [
      "                                                                                \r"
     ]
    }
   ],
   "source": [
    "df_green_revenue.repartition(20).write.parquet('data/report/revenue/green',mode='overwrite')"
   ]
  },
  {
   "cell_type": "code",
   "execution_count": 9,
   "metadata": {},
   "outputs": [
    {
     "name": "stderr",
     "output_type": "stream",
     "text": [
      "[Stage 21:=====================>                                    (3 + 5) / 8]\r"
     ]
    },
    {
     "name": "stdout",
     "output_type": "stream",
     "text": [
      "23/03/27 14:30:05 WARN MemoryManager: Total allocation exceeds 95,00% (1.020.054.720 bytes) of heap memory\n",
      "Scaling row group sizes to 95,00% for 8 writers\n"
     ]
    },
    {
     "name": "stderr",
     "output_type": "stream",
     "text": [
      "[Stage 25:======================>                                  (8 + 8) / 20]\r"
     ]
    },
    {
     "name": "stdout",
     "output_type": "stream",
     "text": [
      "23/03/27 14:30:06 WARN MemoryManager: Total allocation exceeds 95,00% (1.020.054.720 bytes) of heap memory\n",
      "Scaling row group sizes to 95,00% for 8 writers\n"
     ]
    },
    {
     "name": "stderr",
     "output_type": "stream",
     "text": [
      "                                                                                \r"
     ]
    }
   ],
   "source": [
    "df_yellow_revenue.repartition(20).write.parquet('data/report/revenue/yellow',mode='overwrite')"
   ]
  },
  {
   "cell_type": "code",
   "execution_count": 10,
   "metadata": {},
   "outputs": [],
   "source": [
    "df_green_revenue_tmp = df_green_revenue \\\n",
    "                .withColumnRenamed('amount', 'green_amount') \\\n",
    "                .withColumnRenamed('number_records', 'green_number_records')\n",
    "\n",
    "df_yellow_revenue_tmp = df_yellow_revenue \\\n",
    "                .withColumnRenamed('amount', 'yellow_amount') \\\n",
    "                .withColumnRenamed('number_records', 'yellow_number_records')"
   ]
  },
  {
   "cell_type": "code",
   "execution_count": 11,
   "metadata": {},
   "outputs": [],
   "source": [
    "df_join = df_green_revenue_tmp.join(df_yellow_revenue_tmp, on=['hour', 'zone'], how='outer')"
   ]
  },
  {
   "cell_type": "code",
   "execution_count": 12,
   "metadata": {},
   "outputs": [
    {
     "name": "stderr",
     "output_type": "stream",
     "text": [
      "[Stage 27:===================================================>      (8 + 1) / 9]\r"
     ]
    },
    {
     "name": "stdout",
     "output_type": "stream",
     "text": [
      "+-------------------+----+------------+--------------------+------------------+---------------------+\n",
      "|               hour|zone|green_amount|green_number_records|     yellow_amount|yellow_number_records|\n",
      "+-------------------+----+------------+--------------------+------------------+---------------------+\n",
      "|2020-01-01 01:00:00|   1|        null|                null|              94.8|                    1|\n",
      "|2020-01-01 05:00:00|   1|        null|                null|              60.8|                    1|\n",
      "|2020-01-01 10:00:00|   1|        null|                null|            213.36|                    2|\n",
      "|2020-01-03 02:00:00|   1|      117.39|                   1|             100.1|                    1|\n",
      "|2020-01-03 03:00:00|   1|        null|                null|            174.36|                    1|\n",
      "|2020-01-03 11:00:00|   1|        null|                null|447.39000000000004|                    5|\n",
      "|2020-01-04 12:00:00|   1|        null|                null|460.06000000000006|                    6|\n",
      "|2020-01-04 14:00:00|   1|        null|                null|              94.3|                    1|\n",
      "|2020-01-06 07:00:00|   1|        null|                null|            397.26|                    2|\n",
      "|2020-01-06 12:00:00|   1|        null|                null|             100.3|                    1|\n",
      "|2020-01-08 05:00:00|   1|        null|                null|             95.31|                    2|\n",
      "|2020-01-10 17:00:00|   1|        null|                null|             130.8|                    1|\n",
      "|2020-01-11 03:00:00|   1|        null|                null|             175.6|                    2|\n",
      "|2020-01-11 16:00:00|   1|        null|                null|              0.31|                    1|\n",
      "|2020-01-12 07:00:00|   1|        null|                null|             100.8|                    1|\n",
      "|2020-01-12 11:00:00|   1|        null|                null|              95.8|                    1|\n",
      "|2020-01-13 03:00:00|   1|        null|                null|            235.92|                    2|\n",
      "|2020-01-13 16:00:00|   1|        null|                null|             30.88|                    1|\n",
      "|2020-01-14 07:00:00|   1|        null|                null|             82.05|                    1|\n",
      "|2020-01-14 10:00:00|   1|        null|                null|            107.15|                    1|\n",
      "+-------------------+----+------------+--------------------+------------------+---------------------+\n",
      "only showing top 20 rows\n",
      "\n"
     ]
    },
    {
     "name": "stderr",
     "output_type": "stream",
     "text": [
      "                                                                                \r"
     ]
    }
   ],
   "source": [
    "df_join.show()"
   ]
  },
  {
   "cell_type": "code",
   "execution_count": 14,
   "metadata": {},
   "outputs": [
    {
     "name": "stderr",
     "output_type": "stream",
     "text": [
      "[Stage 35:>                                                         (0 + 8) / 9]\r"
     ]
    },
    {
     "name": "stdout",
     "output_type": "stream",
     "text": [
      "23/03/27 14:31:45 WARN MemoryManager: Total allocation exceeds 95,00% (1.020.054.720 bytes) of heap memory\n",
      "Scaling row group sizes to 95,00% for 8 writers\n"
     ]
    },
    {
     "name": "stderr",
     "output_type": "stream",
     "text": [
      "                                                                                \r"
     ]
    }
   ],
   "source": [
    "df_join.write.parquet('data/report/revenue/total', mode='overwrite')"
   ]
  },
  {
   "cell_type": "code",
   "execution_count": 15,
   "metadata": {},
   "outputs": [
    {
     "name": "stdout",
     "output_type": "stream",
     "text": [
      "--2023-03-27 14:37:45--  https://d37ci6vzurychx.cloudfront.net/misc/taxi+_zone_lookup.csv\n",
      "Resolvendo d37ci6vzurychx.cloudfront.net (d37ci6vzurychx.cloudfront.net)... 2600:9000:2123:4200:b:20a5:b140:21, 2600:9000:2123:4600:b:20a5:b140:21, 2600:9000:2123:ea00:b:20a5:b140:21, ...\n",
      "Conectando-se a d37ci6vzurychx.cloudfront.net (d37ci6vzurychx.cloudfront.net)|2600:9000:2123:4200:b:20a5:b140:21|:443... conectado.\n",
      "A requisição HTTP foi enviada, aguardando resposta... 200 OK\n",
      "Tamanho: 12322 (12K) [text/csv]\n",
      "Salvando em: “taxi+_zone_lookup.csv”\n",
      "\n",
      "taxi+_zone_lookup.c 100%[===================>]  12,03K  --.-KB/s    em 0s      \n",
      "\n",
      "2023-03-27 14:37:46 (166 MB/s) - “taxi+_zone_lookup.csv” salvo [12322/12322]\n",
      "\n"
     ]
    }
   ],
   "source": [
    "!wget https://d37ci6vzurychx.cloudfront.net/misc/taxi+_zone_lookup.csv"
   ]
  },
  {
   "cell_type": "code",
   "execution_count": 17,
   "metadata": {},
   "outputs": [],
   "source": [
    "df_zones = spark.read.option('header','true').csv('zones/')"
   ]
  },
  {
   "cell_type": "code",
   "execution_count": 20,
   "metadata": {},
   "outputs": [],
   "source": [
    "df_zones = df_zones.withColumn(\"LocationID\", col(\"LocationID\").cast(\"int\"))"
   ]
  },
  {
   "cell_type": "code",
   "execution_count": 21,
   "metadata": {},
   "outputs": [
    {
     "name": "stdout",
     "output_type": "stream",
     "text": [
      "root\n",
      " |-- LocationID: integer (nullable = true)\n",
      " |-- Borough: string (nullable = true)\n",
      " |-- Zone: string (nullable = true)\n",
      " |-- service_zone: string (nullable = true)\n",
      "\n"
     ]
    }
   ],
   "source": [
    "df_zones.printSchema()"
   ]
  },
  {
   "cell_type": "code",
   "execution_count": 22,
   "metadata": {},
   "outputs": [
    {
     "name": "stdout",
     "output_type": "stream",
     "text": [
      "+----------+-------------+--------------------+------------+\n",
      "|LocationID|      Borough|                Zone|service_zone|\n",
      "+----------+-------------+--------------------+------------+\n",
      "|         1|          EWR|      Newark Airport|         EWR|\n",
      "|         2|       Queens|         Jamaica Bay|   Boro Zone|\n",
      "|         3|        Bronx|Allerton/Pelham G...|   Boro Zone|\n",
      "|         4|    Manhattan|       Alphabet City| Yellow Zone|\n",
      "|         5|Staten Island|       Arden Heights|   Boro Zone|\n",
      "|         6|Staten Island|Arrochar/Fort Wad...|   Boro Zone|\n",
      "|         7|       Queens|             Astoria|   Boro Zone|\n",
      "|         8|       Queens|        Astoria Park|   Boro Zone|\n",
      "|         9|       Queens|          Auburndale|   Boro Zone|\n",
      "|        10|       Queens|        Baisley Park|   Boro Zone|\n",
      "|        11|     Brooklyn|          Bath Beach|   Boro Zone|\n",
      "|        12|    Manhattan|        Battery Park| Yellow Zone|\n",
      "|        13|    Manhattan|   Battery Park City| Yellow Zone|\n",
      "|        14|     Brooklyn|           Bay Ridge|   Boro Zone|\n",
      "|        15|       Queens|Bay Terrace/Fort ...|   Boro Zone|\n",
      "|        16|       Queens|             Bayside|   Boro Zone|\n",
      "|        17|     Brooklyn|             Bedford|   Boro Zone|\n",
      "|        18|        Bronx|        Bedford Park|   Boro Zone|\n",
      "|        19|       Queens|           Bellerose|   Boro Zone|\n",
      "|        20|        Bronx|             Belmont|   Boro Zone|\n",
      "+----------+-------------+--------------------+------------+\n",
      "only showing top 20 rows\n",
      "\n"
     ]
    }
   ],
   "source": [
    "df_zones.show()"
   ]
  },
  {
   "cell_type": "code",
   "execution_count": 23,
   "metadata": {},
   "outputs": [],
   "source": [
    "df_result = df_join.join(df_zones, df_join.zone == df_zones.LocationID)"
   ]
  },
  {
   "cell_type": "code",
   "execution_count": 25,
   "metadata": {},
   "outputs": [
    {
     "name": "stderr",
     "output_type": "stream",
     "text": [
      "[Stage 50:>                                                         (0 + 1) / 1]\r"
     ]
    },
    {
     "name": "stdout",
     "output_type": "stream",
     "text": [
      "+-------------------+----+------------+--------------------+------------------+---------------------+-------+--------------+------------+\n",
      "|               hour|zone|green_amount|green_number_records|     yellow_amount|yellow_number_records|Borough|          Zone|service_zone|\n",
      "+-------------------+----+------------+--------------------+------------------+---------------------+-------+--------------+------------+\n",
      "|2020-01-01 01:00:00|   1|        null|                null|              94.8|                    1|    EWR|Newark Airport|         EWR|\n",
      "|2020-01-01 05:00:00|   1|        null|                null|              60.8|                    1|    EWR|Newark Airport|         EWR|\n",
      "|2020-01-01 10:00:00|   1|        null|                null|            213.36|                    2|    EWR|Newark Airport|         EWR|\n",
      "|2020-01-03 02:00:00|   1|      117.39|                   1|             100.1|                    1|    EWR|Newark Airport|         EWR|\n",
      "|2020-01-03 03:00:00|   1|        null|                null|            174.36|                    1|    EWR|Newark Airport|         EWR|\n",
      "|2020-01-03 11:00:00|   1|        null|                null|447.39000000000004|                    5|    EWR|Newark Airport|         EWR|\n",
      "|2020-01-04 12:00:00|   1|        null|                null|460.06000000000006|                    6|    EWR|Newark Airport|         EWR|\n",
      "|2020-01-04 14:00:00|   1|        null|                null|              94.3|                    1|    EWR|Newark Airport|         EWR|\n",
      "|2020-01-06 07:00:00|   1|        null|                null|            397.26|                    2|    EWR|Newark Airport|         EWR|\n",
      "|2020-01-06 12:00:00|   1|        null|                null|             100.3|                    1|    EWR|Newark Airport|         EWR|\n",
      "|2020-01-08 05:00:00|   1|        null|                null|             95.31|                    2|    EWR|Newark Airport|         EWR|\n",
      "|2020-01-10 17:00:00|   1|        null|                null|             130.8|                    1|    EWR|Newark Airport|         EWR|\n",
      "|2020-01-11 03:00:00|   1|        null|                null|             175.6|                    2|    EWR|Newark Airport|         EWR|\n",
      "|2020-01-11 16:00:00|   1|        null|                null|              0.31|                    1|    EWR|Newark Airport|         EWR|\n",
      "|2020-01-12 07:00:00|   1|        null|                null|             100.8|                    1|    EWR|Newark Airport|         EWR|\n",
      "|2020-01-12 11:00:00|   1|        null|                null|              95.8|                    1|    EWR|Newark Airport|         EWR|\n",
      "|2020-01-13 03:00:00|   1|        null|                null|            235.92|                    2|    EWR|Newark Airport|         EWR|\n",
      "|2020-01-13 16:00:00|   1|        null|                null|             30.88|                    1|    EWR|Newark Airport|         EWR|\n",
      "|2020-01-14 07:00:00|   1|        null|                null|             82.05|                    1|    EWR|Newark Airport|         EWR|\n",
      "|2020-01-14 10:00:00|   1|        null|                null|            107.15|                    1|    EWR|Newark Airport|         EWR|\n",
      "+-------------------+----+------------+--------------------+------------------+---------------------+-------+--------------+------------+\n",
      "only showing top 20 rows\n",
      "\n"
     ]
    },
    {
     "name": "stderr",
     "output_type": "stream",
     "text": [
      "                                                                                \r"
     ]
    }
   ],
   "source": [
    "df_result.drop('LocationID').show()"
   ]
  },
  {
   "cell_type": "code",
   "execution_count": null,
   "metadata": {},
   "outputs": [],
   "source": []
  }
 ],
 "metadata": {
  "kernelspec": {
   "display_name": "Python 3",
   "language": "python",
   "name": "python3"
  },
  "language_info": {
   "codemirror_mode": {
    "name": "ipython",
    "version": 3
   },
   "file_extension": ".py",
   "mimetype": "text/x-python",
   "name": "python",
   "nbconvert_exporter": "python",
   "pygments_lexer": "ipython3",
   "version": "3.10.8"
  },
  "orig_nbformat": 4
 },
 "nbformat": 4,
 "nbformat_minor": 2
}
