{
 "cells": [
  {
   "cell_type": "code",
   "execution_count": 40,
   "metadata": {},
   "outputs": [],
   "source": [
    "import pyspark\n",
    "from pyspark.sql import SparkSession\n",
    "from pyspark.sql.functions import col,lit"
   ]
  },
  {
   "cell_type": "code",
   "execution_count": 2,
   "metadata": {},
   "outputs": [
    {
     "name": "stderr",
     "output_type": "stream",
     "text": [
      "Setting default log level to \"WARN\".\n",
      "To adjust logging level use sc.setLogLevel(newLevel). For SparkR, use setLogLevel(newLevel).\n"
     ]
    },
    {
     "name": "stdout",
     "output_type": "stream",
     "text": [
      "23/03/27 09:29:08 WARN NativeCodeLoader: Unable to load native-hadoop library for your platform... using builtin-java classes where applicable\n"
     ]
    }
   ],
   "source": [
    "spark = SparkSession.builder \\\n",
    "        .master(\"local[*]\") \\\n",
    "        .getOrCreate()"
   ]
  },
  {
   "cell_type": "code",
   "execution_count": 28,
   "metadata": {},
   "outputs": [],
   "source": [
    "df_green = spark.read.parquet('data/raw/green/*/*')\n",
    "df_yellow = spark.read.parquet('data/raw/yellow/*/*')"
   ]
  },
  {
   "cell_type": "code",
   "execution_count": 29,
   "metadata": {},
   "outputs": [],
   "source": [
    "df_green = df_green.withColumn(\"VendorID\", col(\"VendorID\").cast(\"int\")) \\\n",
    "                    .withColumn(\"RatecodeID\", col(\"RatecodeID\").cast(\"int\")) \\\n",
    "                    .withColumn(\"PULocationID\", col(\"PULocationID\").cast(\"int\")) \\\n",
    "                    .withColumn(\"DOLocationID\", col(\"DOLocationID\").cast(\"int\")) \\\n",
    "                    .withColumn(\"passenger_count\", col(\"passenger_count\").cast(\"int\")) \\\n",
    "                    .withColumn(\"ehail_fee\", col(\"ehail_fee\").cast(\"double\")) \\\n",
    "                    .withColumn(\"payment_type\", col(\"payment_type\").cast(\"int\")) \\\n",
    "                    .withColumn(\"trip_type\", col(\"trip_type\").cast(\"int\"))\n",
    "\n",
    "df_yellow = df_yellow.withColumn(\"VendorID\", col(\"VendorID\").cast(\"int\")) \\\n",
    "                    .withColumn(\"passenger_count\", col(\"passenger_count\").cast(\"int\")) \\\n",
    "                    .withColumn(\"RatecodeID\", col(\"RatecodeID\").cast(\"int\")) \\\n",
    "                    .withColumn(\"DOLocationID\", col(\"DOLocationID\").cast(\"int\")) \\\n",
    "                    .withColumn(\"PULocationID\", col(\"PULocationID\").cast(\"int\")) \\\n",
    "                    .withColumn(\"payment_type\", col(\"payment_type\").cast(\"int\")) \\\n",
    "                    .withColumn(\"airport_fee\", col(\"airport_fee\").cast(\"double\"))"
   ]
  },
  {
   "cell_type": "code",
   "execution_count": 30,
   "metadata": {},
   "outputs": [
    {
     "name": "stdout",
     "output_type": "stream",
     "text": [
      "root\n",
      " |-- VendorID: integer (nullable = true)\n",
      " |-- lpep_pickup_datetime: timestamp (nullable = true)\n",
      " |-- lpep_dropoff_datetime: timestamp (nullable = true)\n",
      " |-- store_and_fwd_flag: string (nullable = true)\n",
      " |-- RatecodeID: integer (nullable = true)\n",
      " |-- PULocationID: integer (nullable = true)\n",
      " |-- DOLocationID: integer (nullable = true)\n",
      " |-- passenger_count: integer (nullable = true)\n",
      " |-- trip_distance: double (nullable = true)\n",
      " |-- fare_amount: double (nullable = true)\n",
      " |-- extra: double (nullable = true)\n",
      " |-- mta_tax: double (nullable = true)\n",
      " |-- tip_amount: double (nullable = true)\n",
      " |-- tolls_amount: double (nullable = true)\n",
      " |-- ehail_fee: double (nullable = true)\n",
      " |-- improvement_surcharge: double (nullable = true)\n",
      " |-- total_amount: double (nullable = true)\n",
      " |-- payment_type: integer (nullable = true)\n",
      " |-- trip_type: integer (nullable = true)\n",
      " |-- congestion_surcharge: double (nullable = true)\n",
      "\n"
     ]
    }
   ],
   "source": [
    "df_green.printSchema()"
   ]
  },
  {
   "cell_type": "code",
   "execution_count": 31,
   "metadata": {},
   "outputs": [
    {
     "name": "stdout",
     "output_type": "stream",
     "text": [
      "root\n",
      " |-- VendorID: integer (nullable = true)\n",
      " |-- tpep_pickup_datetime: timestamp (nullable = true)\n",
      " |-- tpep_dropoff_datetime: timestamp (nullable = true)\n",
      " |-- passenger_count: integer (nullable = true)\n",
      " |-- trip_distance: double (nullable = true)\n",
      " |-- RatecodeID: integer (nullable = true)\n",
      " |-- store_and_fwd_flag: string (nullable = true)\n",
      " |-- PULocationID: integer (nullable = true)\n",
      " |-- DOLocationID: integer (nullable = true)\n",
      " |-- payment_type: integer (nullable = true)\n",
      " |-- fare_amount: double (nullable = true)\n",
      " |-- extra: double (nullable = true)\n",
      " |-- mta_tax: double (nullable = true)\n",
      " |-- tip_amount: double (nullable = true)\n",
      " |-- tolls_amount: double (nullable = true)\n",
      " |-- improvement_surcharge: double (nullable = true)\n",
      " |-- total_amount: double (nullable = true)\n",
      " |-- congestion_surcharge: double (nullable = true)\n",
      " |-- airport_fee: double (nullable = true)\n",
      "\n"
     ]
    }
   ],
   "source": [
    "df_yellow.printSchema()"
   ]
  },
  {
   "cell_type": "code",
   "execution_count": 33,
   "metadata": {},
   "outputs": [],
   "source": [
    "df_yellow = df_yellow.withColumnRenamed('tpep_pickup_datetime','pickup_datetime') \\\n",
    "                        .withColumnRenamed('tpep_dropoff_datetime','dropoff_datetime')\n",
    "\n",
    "df_green = df_green.withColumnRenamed('lpep_pickup_datetime','pickup_datetime') \\\n",
    "                        .withColumnRenamed('lpep_dropoff_datetime','dropoff_datetime')"
   ]
  },
  {
   "cell_type": "code",
   "execution_count": 34,
   "metadata": {},
   "outputs": [
    {
     "data": {
      "text/plain": [
       "{'DOLocationID',\n",
       " 'PULocationID',\n",
       " 'RatecodeID',\n",
       " 'VendorID',\n",
       " 'congestion_surcharge',\n",
       " 'dropoff_datetime',\n",
       " 'extra',\n",
       " 'fare_amount',\n",
       " 'improvement_surcharge',\n",
       " 'mta_tax',\n",
       " 'passenger_count',\n",
       " 'payment_type',\n",
       " 'pickup_datetime',\n",
       " 'store_and_fwd_flag',\n",
       " 'tip_amount',\n",
       " 'tolls_amount',\n",
       " 'total_amount',\n",
       " 'trip_distance'}"
      ]
     },
     "execution_count": 34,
     "metadata": {},
     "output_type": "execute_result"
    }
   ],
   "source": [
    "set(df_green.columns) & set(df_yellow.columns)"
   ]
  },
  {
   "cell_type": "code",
   "execution_count": 35,
   "metadata": {},
   "outputs": [
    {
     "data": {
      "text/plain": [
       "['VendorID',\n",
       " 'pickup_datetime',\n",
       " 'dropoff_datetime',\n",
       " 'store_and_fwd_flag',\n",
       " 'RatecodeID',\n",
       " 'PULocationID',\n",
       " 'DOLocationID',\n",
       " 'passenger_count',\n",
       " 'trip_distance',\n",
       " 'fare_amount',\n",
       " 'extra',\n",
       " 'mta_tax',\n",
       " 'tip_amount',\n",
       " 'tolls_amount',\n",
       " 'improvement_surcharge',\n",
       " 'total_amount',\n",
       " 'payment_type',\n",
       " 'congestion_surcharge']"
      ]
     },
     "execution_count": 35,
     "metadata": {},
     "output_type": "execute_result"
    }
   ],
   "source": [
    "common_columns = []\n",
    "\n",
    "for col in df_green.columns:\n",
    "    if col in df_yellow.columns:\n",
    "        common_columns.append(col)\n",
    "common_columns"
   ]
  },
  {
   "cell_type": "code",
   "execution_count": 42,
   "metadata": {},
   "outputs": [],
   "source": [
    "df_green_common = df_green.select(common_columns).withColumn('service_type', lit('green'))\n",
    "df_yellow_common = df_yellow.select(common_columns).withColumn('service_type', lit('yellow'))"
   ]
  },
  {
   "cell_type": "code",
   "execution_count": 43,
   "metadata": {},
   "outputs": [],
   "source": [
    "df_trips_data = df_green_common.unionAll(df_yellow_common)"
   ]
  },
  {
   "cell_type": "code",
   "execution_count": 44,
   "metadata": {},
   "outputs": [
    {
     "name": "stderr",
     "output_type": "stream",
     "text": [
      "[Stage 8:=====================================================>   (16 + 1) / 17]\r"
     ]
    },
    {
     "name": "stdout",
     "output_type": "stream",
     "text": [
      "+------------+--------+\n",
      "|service_type|   count|\n",
      "+------------+--------+\n",
      "|       green| 2802931|\n",
      "|      yellow|55553400|\n",
      "+------------+--------+\n",
      "\n"
     ]
    },
    {
     "name": "stderr",
     "output_type": "stream",
     "text": [
      "                                                                                \r"
     ]
    }
   ],
   "source": [
    "df_trips_data.groupBy('service_type').count().show()"
   ]
  },
  {
   "cell_type": "code",
   "execution_count": 48,
   "metadata": {},
   "outputs": [],
   "source": [
    "df_trips_data.createOrReplaceTempView('trips_data')"
   ]
  },
  {
   "cell_type": "code",
   "execution_count": 52,
   "metadata": {},
   "outputs": [
    {
     "name": "stderr",
     "output_type": "stream",
     "text": [
      "[Stage 14:====================================================>   (16 + 1) / 17]\r"
     ]
    },
    {
     "name": "stdout",
     "output_type": "stream",
     "text": [
      "+------------+--------+\n",
      "|service_TYPE|count(1)|\n",
      "+------------+--------+\n",
      "|       green| 2802931|\n",
      "|      yellow|55553400|\n",
      "+------------+--------+\n",
      "\n"
     ]
    },
    {
     "name": "stderr",
     "output_type": "stream",
     "text": [
      "                                                                                \r"
     ]
    }
   ],
   "source": [
    "spark.sql(\"\"\"\n",
    "SELECT \n",
    "    service_TYPE, \n",
    "    COUNT(1) \n",
    "FROM trips_data \n",
    "GROUP BY\n",
    "    service_type\n",
    "\"\"\").show()"
   ]
  },
  {
   "cell_type": "code",
   "execution_count": 58,
   "metadata": {},
   "outputs": [],
   "source": [
    "df_result = spark.sql(\"\"\"\n",
    "SELECT \n",
    "    -- Reveneue grouping \n",
    "    PULocationID AS revenue_zone,\n",
    "    date_trunc('month', pickup_datetime) AS revenue_month, \n",
    "    service_type, \n",
    "    -- Revenue calculation \n",
    "    SUM(fare_amount) AS revenue_monthly_fare,\n",
    "    SUM(extra) AS revenue_monthly_extra,\n",
    "    SUM(mta_tax) AS revenue_monthly_mta_tax,\n",
    "    SUM(tip_amount) AS revenue_monthly_tip_amount,\n",
    "    SUM(tolls_amount) AS revenue_monthly_tolls_amount,\n",
    "    SUM(improvement_surcharge) AS revenue_monthly_improvement_surcharge,\n",
    "    SUM(total_amount) AS revenue_monthly_total_amount,\n",
    "    SUM(congestion_surcharge) AS revenue_monthly_congestion_surcharge,\n",
    "    -- Additional calculations\n",
    "    AVG(passenger_count) AS avg_montly_passenger_count,\n",
    "    AVG(trip_distance) AS avg_montly_trip_distance\n",
    "FROM\n",
    "    trips_data\n",
    "GROUP BY\n",
    "    1, 2, 3\n",
    "\"\"\")"
   ]
  },
  {
   "cell_type": "code",
   "execution_count": 59,
   "metadata": {},
   "outputs": [
    {
     "name": "stderr",
     "output_type": "stream",
     "text": [
      "[Stage 20:====================================================>   (16 + 1) / 17]\r"
     ]
    },
    {
     "name": "stdout",
     "output_type": "stream",
     "text": [
      "+------------+-------------------+------------+--------------------+---------------------+-----------------------+--------------------------+----------------------------+-------------------------------------+----------------------------+------------------------------------+--------------------------+------------------------+\n",
      "|revenue_zone|      revenue_month|service_type|revenue_monthly_fare|revenue_monthly_extra|revenue_monthly_mta_tax|revenue_monthly_tip_amount|revenue_monthly_tolls_amount|revenue_monthly_improvement_surcharge|revenue_monthly_total_amount|revenue_monthly_congestion_surcharge|avg_montly_passenger_count|avg_montly_trip_distance|\n",
      "+------------+-------------------+------------+--------------------+---------------------+-----------------------+--------------------------+----------------------------+-------------------------------------+----------------------------+------------------------------------+--------------------------+------------------------+\n",
      "|          42|2019-12-01 00:00:00|       green|  1471.5100000000002|                89.25|                   49.0|         94.03999999999999|                        30.6|                   34.800000000000026|          1810.7999999999984|                               41.25|         1.510204081632653|       3.006694915254238|\n",
      "|          65|2019-12-01 00:00:00|       green|               484.0|                19.25|                   16.5|                     79.54|                         0.0|                   10.200000000000003|           623.2400000000001|                                16.5|        1.0588235294117647|      3.2529411764705887|\n",
      "|          74|2020-01-01 00:00:00|       green|   375950.3700000055|              17145.0|                16213.0|         41306.62000000002|          6961.2999999998965|                   10097.999999998883|          488193.08999985433|                            24812.25|         1.310303440635194|       2.367764712781863|\n",
      "|          80|2020-01-01 00:00:00|       green|  39845.659999999945|              1357.25|                  739.0|         4192.500000000013|           608.0300000000003|                    565.5000000000056|          48419.790000000045|                             1190.75|        1.4411590774689533|       4.099273631840797|\n",
      "|         157|2020-01-01 00:00:00|       green|   9240.449999999999|                542.0|                   99.0|         256.5200000000001|          200.44000000000008|                   108.59999999999933|          10501.910000000013|                                55.0|         1.284153005464481|       4.803283582089551|\n",
      "|         195|2020-01-01 00:00:00|       green|  11362.090000000017|                549.0|                  142.5|         807.2799999999999|           255.0700000000001|                   135.29999999999941|          13434.989999999987|                              129.25|         1.211726384364821|      4.5826095238095235|\n",
      "|         115|2020-02-01 00:00:00|       green|  1223.5399999999997|                 20.0|                   13.5|                       0.0|           298.9000000000001|                    9.900000000000002|          1565.8399999999992|                                 0.0|        1.1724137931034482|      12.094285714285714|\n",
      "|         163|2020-02-01 00:00:00|       green|   972.2200000000001|                 71.5|                    1.5|                       0.0|                       24.48|                    8.099999999999998|                      1077.8|                                 0.0|                       1.0|        9.73074074074074|\n",
      "|         208|2019-12-01 00:00:00|       green|  156.48000000000002|                  6.5|                    1.0|                      0.49|                         0.0|                                  1.8|                      168.22|                                 0.0|                       1.0|                    4.37|\n",
      "|         196|2020-02-01 00:00:00|       green|   46431.39999999959|              2150.75|                 1168.0|        1604.5999999999997|           718.9599999999998|                    868.7999999999597|           53160.90999999983|                              217.25|        1.4604591836734695|       3.415110132158582|\n",
      "|          43|2020-02-01 00:00:00|       green|   48231.04999999999|              2810.25|                 2211.0|          7933.62000000006|           421.7400000000003|                    1342.499999999888|           70794.86000000266|                             8733.75|        1.3794502027940514|      2.3128825227625978|\n",
      "|          75|2019-12-01 00:00:00|       green|   724.8700000000001|                62.25|                   33.5|                     54.45|                         0.0|                   20.700000000000028|           922.4699999999993|                                44.0|        1.4307692307692308|      2.1626086956521746|\n",
      "|          70|2019-12-01 00:00:00|       green|                67.0|                  2.5|                    2.5|                       0.0|                         0.0|                                  1.5|                        73.5|                                 0.0|                       1.2|                   3.162|\n",
      "|         188|2020-01-01 00:00:00|       green|   55240.35000000012|              4151.75|                  590.5|         376.1799999999999|           722.8400000000006|                    705.5999999999843|           61912.56999999925|                                60.5|        1.1926345609065157|       3.945763546798032|\n",
      "|         118|2020-01-01 00:00:00|       green|              533.73|                 11.5|                    2.0|                       0.0|                       82.58|                   2.6999999999999997|                      632.51|                                 0.0|                       1.4|      17.745555555555555|\n",
      "|          40|2020-02-01 00:00:00|       green|  21868.530000000024|                898.0|                  832.5|        3177.4100000000008|          397.80000000000024|                    518.7000000000131|          28665.889999999592|                               965.0|        1.2487951807228916|       2.853230240549828|\n",
      "|         203|2020-02-01 00:00:00|       green|   9738.940000000004|                580.5|                   47.0|                       0.0|          208.08000000000007|                    77.99999999999962|          10652.519999999986|                                 0.0|        1.2878787878787878|        9.62655913978495|\n",
      "|         124|2020-01-01 00:00:00|       green|  7916.2699999999995|                464.5|                   52.5|                     15.56|           285.2700000000001|                    74.99999999999964|           8809.100000000002|                                 0.0|        1.0185185185185186|        7.09040590405904|\n",
      "|         193|2008-12-01 00:00:00|       green|                 8.0|                  1.0|                    1.5|                      0.95|                         0.0|                   0.8999999999999999|          12.350000000000001|                                 0.0|                       1.0|                     0.0|\n",
      "|          49|2020-02-01 00:00:00|       green|   46654.46000000017|               3007.5|                 1067.0|         2361.539999999999|          425.58000000000027|                    834.8999999999652|           55046.42999999914|                              505.75|        1.1784332688588008|      3.2917910447761134|\n",
      "+------------+-------------------+------------+--------------------+---------------------+-----------------------+--------------------------+----------------------------+-------------------------------------+----------------------------+------------------------------------+--------------------------+------------------------+\n",
      "only showing top 20 rows\n",
      "\n"
     ]
    },
    {
     "name": "stderr",
     "output_type": "stream",
     "text": [
      "                                                                                \r"
     ]
    }
   ],
   "source": [
    "df_result.show()"
   ]
  },
  {
   "cell_type": "code",
   "execution_count": 60,
   "metadata": {},
   "outputs": [
    {
     "name": "stderr",
     "output_type": "stream",
     "text": [
      "                                                                                \r"
     ]
    }
   ],
   "source": [
    "df_result.write.parquet('data/report/revenue')"
   ]
  }
 ],
 "metadata": {
  "kernelspec": {
   "display_name": "Python 3",
   "language": "python",
   "name": "python3"
  },
  "language_info": {
   "codemirror_mode": {
    "name": "ipython",
    "version": 3
   },
   "file_extension": ".py",
   "mimetype": "text/x-python",
   "name": "python",
   "nbconvert_exporter": "python",
   "pygments_lexer": "ipython3",
   "version": "3.10.8"
  },
  "orig_nbformat": 4
 },
 "nbformat": 4,
 "nbformat_minor": 2
}
